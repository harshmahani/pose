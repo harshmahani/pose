{
 "cells": [
  {
   "cell_type": "markdown",
   "metadata": {
    "id": "9QmY4dDYpmfB"
   },
   "source": [
    "# 3D Bosy Pose Estimation\n",
    "\n",
    "\n",
    "## Note\n",
    "If you run this notebook in google colab, then before running this notebook make sure that your runtime type is 'Python 3 with GPU acceleration'. Go to Edit > Notebook settings > Hardware Accelerator > Select \"GPU\".\n",
    "\n",
    "## More Info\n",
    "- Paper: https://arxiv.org/abs/1912.05656"
   ]
  },
  {
   "cell_type": "code",
   "execution_count": null,
   "metadata": {
    "id": "Tvd4cfPk5a0e"
   },
   "outputs": [],
   "source": [
    "# Clone the repo\n",
    "!git clone https://github.com/rkapoor1999/3D-Body-Pose-Estimation.git"
   ]
  },
  {
   "cell_type": "code",
   "execution_count": null,
   "metadata": {
    "id": "Sui0UeZR5vCy"
   },
   "outputs": [],
   "source": [
    "%cd 3D-Body-Pose-Estimation/"
   ]
  },
  {
   "cell_type": "code",
   "execution_count": null,
   "metadata": {
    "id": "Rs6UTvVO6Fxf"
   },
   "outputs": [],
   "source": [
    "# Install the other requirements\n",
    "!pip install torch==1.4.0 numpy==1.17.5\n",
    "!pip install git+https://github.com/giacaglia/pytube.git --upgrade\n",
    "!pip install -r requirements.txt"
   ]
  },
  {
   "cell_type": "code",
   "execution_count": null,
   "metadata": {
    "id": "brZt0q3Y6X5W"
   },
   "outputs": [],
   "source": [
    "# Download pretrained weights and SMPL data\n",
    "# Place the data as shown in data/instructions.md"
   ]
  },
  {
   "cell_type": "markdown",
   "metadata": {
    "id": "J7A7eakXIn9A"
   },
   "source": [
    "### Run the demo code."
   ]
  },
  {
   "cell_type": "code",
   "execution_count": null,
   "metadata": {
    "id": "qVNszfLQ7rC9"
   },
   "outputs": [],
   "source": [
    "# Run the demo\n",
    "!python demo.py --vid_file sample_video.mp4 --output_folder output/ --sideview"
   ]
  }
 ],
 "metadata": {
  "accelerator": "GPU",
  "colab": {
   "include_colab_link": true,
   "provenance": []
  },
  "kernelspec": {
   "display_name": "Python 3 (ipykernel)",
   "language": "python",
   "name": "python3"
  },
  "language_info": {
   "codemirror_mode": {
    "name": "ipython",
    "version": 3
   },
   "file_extension": ".py",
   "mimetype": "text/x-python",
   "name": "python",
   "nbconvert_exporter": "python",
   "pygments_lexer": "ipython3",
   "version": "3.11.5"
  }
 },
 "nbformat": 4,
 "nbformat_minor": 1
}
